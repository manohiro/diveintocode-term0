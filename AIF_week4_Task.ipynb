{
 "cells": [
  {
   "cell_type": "markdown",
   "metadata": {},
   "source": [
    "# 課題 ボストン住宅価格 線形回帰\n",
    "\n",
    "## 1. 線形回帰\n",
    "### 1.1. 回帰と分類\n",
    "  回帰とは、関数をデータに当てはめることによって、ある変数yの変動を別の変数xの変動により説明・予測・影響関係を検討すことである。例えば、そのデータの特徴量の傾向をみて(座標上に線を書いて)、具体的な数字を出す（線上から割り出す）、予測するのが回帰である。\n",
    "　分類は、回帰とは違い具体的な数字を出すのではなく、与えられたクラスに分ける（ラベリングする）ことを目的としている。例えば、花弁の数をみて、少ないとパンジー、多いとたんぽぽのように、あらかじめ与えられたクラス（ここでは、パンジーとたんぽぽ）に分けることを分類という。"
   ]
  },
  {
   "cell_type": "markdown",
   "metadata": {},
   "source": [
    " ### 1.2. 線形とは\n",
    " 　「線形」というのは、「目的変数」と「説明変数」の関係性が線形であるということを意味している。言い換えると、目的変数は次のように表せるという仮定を置いている。言葉にすれば次のようになる。\n",
    "$$目的変数=切片+説明変数_1×回帰係数_1+...+説明変数_p×回帰係数_p+観測誤差$$\n",
    "数式では\n",
    "$$ Y=β_0+X_1β_1+⋯+X_pβ_p+ε $$\n",
    "上式よりわかるように「線形回帰」の「線形」の意味は「目的変数」と「説明変数」の関数性の間に「非線形な関数」が紛れ込んでいないことを意味している。例えば、指数関数や対数などの関係性が入ると、途端に仮定かが崩れて「線形回帰」を使うことはできません。"
   ]
  },
  {
   "cell_type": "markdown",
   "metadata": {},
   "source": [
    "### 1.3 単回帰と重回帰\n",
    "単回帰とは説明変数$x$が一つだけの回帰式のことである。\n",
    "$$y=ax+b$$\n",
    "説明変数$x$が二つ以上ある回帰式のことを重回帰といいう。\n",
    "$$y=β_0 + β_1 x_1 + β_2 x_2$$"
   ]
  },
  {
   "cell_type": "markdown",
   "metadata": {},
   "source": [
    "# 2. ボストン住宅価格 線形回帰\n",
    "## 必要なライブラリーをインポート"
   ]
  },
  {
   "cell_type": "code",
   "execution_count": 1,
   "metadata": {},
   "outputs": [],
   "source": [
    "import numpy as np # 線形代数ライブラリー\n",
    "import matplotlib.pyplot as plt # 描画ライブラリー\n",
    "import seaborn as sns # 描画ライブラリー\n",
    "from sklearn.datasets import load_boston # ボストン住宅価格データ\n",
    "from scipy.stats import zscore # zスコアライブラリー\n",
    "import pandas as pd # データ操作ライブラリー\n",
    "from sklearn.linear_model import LinearRegression # 線形回帰モデル\n",
    "from sklearn.preprocessing import PolynomialFeatures # 多項式モデル\n",
    "from sklearn.model_selection import train_test_split # テストデータの分割\n",
    "from sklearn.metrics import mean_squared_error # 平均二乗誤差回帰損失"
   ]
  },
  {
   "cell_type": "markdown",
   "metadata": {},
   "source": [
    "### ボストン住宅価格データライブラリーからデータ取得"
   ]
  },
  {
   "cell_type": "code",
   "execution_count": 2,
   "metadata": {},
   "outputs": [
    {
     "name": "stdout",
     "output_type": "stream",
     "text": [
      "      CRIM    ZN  INDUS  CHAS    NOX     RM   AGE     DIS  RAD    TAX  \\\n",
      "0  0.00632  18.0   2.31   0.0  0.538  6.575  65.2  4.0900  1.0  296.0   \n",
      "1  0.02731   0.0   7.07   0.0  0.469  6.421  78.9  4.9671  2.0  242.0   \n",
      "2  0.02729   0.0   7.07   0.0  0.469  7.185  61.1  4.9671  2.0  242.0   \n",
      "3  0.03237   0.0   2.18   0.0  0.458  6.998  45.8  6.0622  3.0  222.0   \n",
      "4  0.06905   0.0   2.18   0.0  0.458  7.147  54.2  6.0622  3.0  222.0   \n",
      "\n",
      "   PTRATIO       B  LSTAT  \n",
      "0     15.3  396.90   4.98  \n",
      "1     17.8  396.90   9.14  \n",
      "2     17.8  392.83   4.03  \n",
      "3     18.7  394.63   2.94  \n",
      "4     18.7  396.90   5.33  \n"
     ]
    }
   ],
   "source": [
    "# ボストン住宅価格データを読み込み\n",
    "Instance_BostonData = load_boston() # インスタンスを生成\n",
    "\n",
    "# 変数にデータをPandas型に変換し、格納 \n",
    "Data = pd.DataFrame(Instance_BostonData.data,columns=Instance_BostonData.feature_names) # 説明変数データ\n",
    "HousePrices = pd.DataFrame(Instance_BostonData.target, columns={\"HousePrices\"}) # 目的変数データ (住宅価格)\n",
    "\n",
    "# 説明変数データの先頭5行表示\n",
    "print(Data.head())"
   ]
  },
  {
   "cell_type": "code",
   "execution_count": 3,
   "metadata": {},
   "outputs": [
    {
     "name": "stdout",
     "output_type": "stream",
     "text": [
      "-- Data Lstat --\n",
      "0    4.98\n",
      "1    9.14\n",
      "2    4.03\n",
      "3    2.94\n",
      "4    5.33\n",
      "Name: LSTAT, dtype: float64\n",
      "-----------------------------\n",
      "-- House prices --\n",
      "   HousePrices\n",
      "0         24.0\n",
      "1         21.6\n",
      "2         34.7\n",
      "3         33.4\n",
      "4         36.2\n"
     ]
    }
   ],
   "source": [
    "# データから今回の対象となる目的変数「LSTAT」を抽出\n",
    "DataLstat = Data[\"LSTAT\"] # LSTAT：給与\n",
    "\n",
    "# 先頭の5行を表示\n",
    "print(\"-- Data Lstat --\")\n",
    "print(DataLstat.head()) # 説明変数となるData_Lstat(給与)\n",
    "print(\"-----------------------------\")\n",
    "print(\"-- House prices --\")\n",
    "print(HousePrices.head()) # 目的変数となるHousePrices(住宅価格)"
   ]
  },
  {
   "cell_type": "markdown",
   "metadata": {},
   "source": [
    "### テストデータの分割"
   ]
  },
  {
   "cell_type": "code",
   "execution_count": 4,
   "metadata": {},
   "outputs": [
    {
     "name": "stdout",
     "output_type": "stream",
     "text": [
      "DataLstat:TrainSize(404,), TestSize:(102,)\n",
      "HousePrices:TrainSize(404, 1), TestSize:(102, 1)\n"
     ]
    }
   ],
   "source": [
    "# トレーニング80% テスト20%　に分割\n",
    "(DataLstat_train, DataLstat_test, \n",
    " HousePrices_train, HousePrices_test) = train_test_split(DataLstat, HousePrices, test_size=0.2, random_state=0) # テスト 20% 分割はランダム無し\n",
    "\n",
    "# 各データのサイズ確認\n",
    "print(\"DataLstat:TrainSize{}, TestSize:{}\".format(DataLstat_train.shape, DataLstat_test.shape))\n",
    "print(\"HousePrices:TrainSize{}, TestSize:{}\".format(HousePrices_train.shape, HousePrices_test.shape))"
   ]
  },
  {
   "cell_type": "markdown",
   "metadata": {},
   "source": [
    "### 線形回帰モデル"
   ]
  },
  {
   "cell_type": "code",
   "execution_count": 5,
   "metadata": {},
   "outputs": [
    {
     "data": {
      "text/plain": [
       "LinearRegression(copy_X=True, fit_intercept=True, n_jobs=None,\n",
       "         normalize=False)"
      ]
     },
     "execution_count": 5,
     "metadata": {},
     "output_type": "execute_result"
    }
   ],
   "source": [
    "# 線形回帰モデル\n",
    "lin_1d = LinearRegression() # 線形モデルインスタンスの生成\n",
    "\n",
    "# 線形回帰によるモデル生成\n",
    "lin_1d.fit(DataLstat_train[:,None], HousePrices_train) # DataLstat_trainをベクトルから行列に変換"
   ]
  },
  {
   "cell_type": "code",
   "execution_count": 6,
   "metadata": {},
   "outputs": [
    {
     "name": "stdout",
     "output_type": "stream",
     "text": [
      "一次式における'LSTAT'の住宅価格への決定係数は0.43\n"
     ]
    }
   ],
   "source": [
    "# 線形モデル決定係数\n",
    "score_1d = lin_1d.score(DataLstat_test[:,None], HousePrices_test)\n",
    "print(\"一次式における'LSTAT'の住宅価格への決定係数は%.2f\"%(score_1d))"
   ]
  },
  {
   "cell_type": "markdown",
   "metadata": {},
   "source": [
    "### 3. 決定係数\n",
    "決定係数とは、回帰分析によって求められた目的変数の予測値が、実際の目的変数の値とどのくらい一致しているかを表している指標である。\n",
    "回帰分析には、$y=ax+b$という式で表すことができる単回帰分析と、説明変数が複数ある重回帰分析がある。\n",
    "#### 3.1 単回帰分析における決定係数\n",
    "単回帰分析では$y=ax+b$の形で目的変数（y）の値を予測するが、あくまで「予測値」のため実際の目的変数の値とは完全に一致しない。そのため、何を説明変数（x）とするかによって、「予測がほぼ当たっている」場合と「あまり当たっていない」場合がある。決定係数は0から1の範囲内の値を取り、1に近ければ近いほど予測が当たっている状態で、0に近ければ近いほど予測があまり当たっていない状態を表す。表現を変えると、1に近いほど、説明変数が目的変数をよく説明していると言える。"
   ]
  },
  {
   "cell_type": "markdown",
   "metadata": {},
   "source": [
    "#### 3.2 決定係数の計算方法\n",
    "決定係数は一般的に$R^2$で示され、以下の式で求める。\n",
    "$$R^2 = \\frac{目的変数の予測値の偏差平方}{目的変数の観測値の偏差平方和}$$\n",
    "また、目的変数の観測値の偏差平方和は全平方和、目的変数の予測値の偏差平方は回帰平方和と言い、観測値を$y$、予測値$\\hat{y}$、平均値$\\bar{y}$とすると以下の式で求めることができる。\n",
    "$$全平方和=\\sum_{i=1}^n (y_{i}-\\bar{y})^2 \\tag{1} $$\n",
    "$$回帰平方和=\\sum_{i=1}^n (\\hat{y}_{i}-\\bar{y})^2 \\tag{2}$$\n",
    "上式の$(1),(2)$を合わせると以下の式になる。\n",
    "$$R^2 = \\frac{ \\sum_{i=1}^n (\\hat{y}_{i}-\\bar{y})^2 }{\\sum_{i=1}^n (y_{i}-\\bar{y})^2}$$"
   ]
  },
  {
   "cell_type": "markdown",
   "metadata": {},
   "source": [
    "### 3.2 決定係数が高いモデル\n",
    "「日本の国民全体からランダムに1000人選んでアンケートを行う」ことを考えてみる。\n",
    "このアンケートの結果にもとづいて回帰分析を行い、そこで得られた回帰係数をもとに決定係数を出したとする。しかしながら、ここで求められた回帰係数はあくまで「たまたま選ばれた1000人」に対して最も予測が当たるように求められたものである。日本の国民全員を対象に「たまたま選ばれた1000人」に最適化された結果を適用すると、一般に予測が悪くなるはずである。\n",
    "決定係数は「たまたま選ばれた1000人」への予測の当てはまりだけを見ている指標である。そのためこれを「日本の国民全体を対象」とした決定係数と考えようとすると、予測の当てはまりの良さを課題に見積もっていることになり不適切である。\n",
    "こうした問題に対処し、あくまで「日本の国民全体を対象」とした予測値の当てはまりを評価できるよう決定係数の値を修正したものが「自由度調整済み決定係数」である。値の修正にはサンプル数と説明変数の個数から求められる「自由度」という数字を使っているため、この名前がつけられている。"
   ]
  },
  {
   "cell_type": "markdown",
   "metadata": {},
   "source": [
    "## 4. 2,3,4次式の回帰\n",
    "### 4.1 モデル生成"
   ]
  },
  {
   "cell_type": "code",
   "execution_count": 7,
   "metadata": {},
   "outputs": [
    {
     "name": "stdout",
     "output_type": "stream",
     "text": [
      "二次式における'LSTAT'の住宅価格への決定係数は0.52\n",
      "三次式における'LSTAT'の住宅価格への決定係数は0.54\n",
      "四次式における'LSTAT'の住宅価格への決定係数は0.57\n"
     ]
    }
   ],
   "source": [
    "# 回帰モデルのインスタンス読込み\n",
    "lin_2d = LinearRegression()\n",
    "lin_3d = LinearRegression()\n",
    "lin_4d = LinearRegression()\n",
    "\n",
    "# 2,3,4次の多項式生成\n",
    "degree_2 = PolynomialFeatures(2)\n",
    "degree_3 = PolynomialFeatures(3)\n",
    "degree_4 = PolynomialFeatures(4)\n",
    "\n",
    "# データを2,3,4次に合うように変換 \n",
    "x_train_2 = degree_2.fit_transform(DataLstat_train[:,None])\n",
    "x_train_3 = degree_3.fit_transform(DataLstat_train[:,None])\n",
    "x_train_4 = degree_4.fit_transform(DataLstat_train[:,None])\n",
    "\n",
    "# 予測モデル生成\n",
    "lin_2d.fit(x_train_2, HousePrices_train)\n",
    "lin_3d.fit(x_train_3, HousePrices_train)\n",
    "lin_4d.fit(x_train_4, HousePrices_train)\n",
    "\n",
    "# 予測モデルをテスト\n",
    "x_test_2 = degree_2.fit_transform(DataLstat_test[:,None])\n",
    "x_test_3 = degree_3.fit_transform(DataLstat_test[:,None])\n",
    "x_test_4 = degree_4.fit_transform(DataLstat_test[:,None])\n",
    "\n",
    "# 決定係数算出\n",
    "score_2d = lin_2d.score(x_test_2, HousePrices_test)\n",
    "score_3d = lin_3d.score(x_test_3, HousePrices_test)\n",
    "score_4d = lin_4d.score(x_test_4, HousePrices_test)\n",
    "\n",
    "print(\"二次式における'LSTAT'の住宅価格への決定係数は%.2f\"%score_2d)\n",
    "print(\"三次式における'LSTAT'の住宅価格への決定係数は%.2f\"%score_3d)\n",
    "print(\"四次式における'LSTAT'の住宅価格への決定係数は%.2f\"%score_4d)"
   ]
  },
  {
   "cell_type": "markdown",
   "metadata": {},
   "source": [
    "### 4.2 回帰モデルと次数\n",
    "モデルの次数を上げると数式は次数に応じて説明変数が増える。以下に1〜4次までの数式を示す。\n",
    "\n",
    "$1次式：y=ax+b$\n",
    "\n",
    "$2次式：y=ax^2 + bx^2 + c$\n",
    "\n",
    "$3次式：y=ax^3 + bx^2 + cx + d$\n",
    "\n",
    "$4次式：y=ax^4 + bx^3 + cx^2 + dx +e$\n",
    "\n",
    "次数を増やすとパラメータが次数に応じ増え、モデルの柔軟性が上がり表現力が高くなる。しかし、表現力が高すぎると本来なら学習しなくてよりノイズデータを無理に学習してしまうため、ノイズを含んだ予測になってしまう。"
   ]
  },
  {
   "cell_type": "markdown",
   "metadata": {},
   "source": [
    "## 5. 重回帰\n",
    "### 5.1 重回帰モデル"
   ]
  },
  {
   "cell_type": "code",
   "execution_count": 8,
   "metadata": {},
   "outputs": [
    {
     "data": {
      "text/plain": [
       "HousePrices    1.000000\n",
       "LSTAT          0.737663\n",
       "RM             0.695360\n",
       "PTRATIO        0.507787\n",
       "INDUS          0.483725\n",
       "TAX            0.468536\n",
       "NOX            0.427321\n",
       "CRIM           0.388305\n",
       "RAD            0.381626\n",
       "AGE            0.376955\n",
       "ZN             0.360445\n",
       "B              0.333461\n",
       "DIS            0.249929\n",
       "CHAS           0.175260\n",
       "Name: HousePrices, dtype: float64"
      ]
     },
     "execution_count": 8,
     "metadata": {},
     "output_type": "execute_result"
    }
   ],
   "source": [
    "# 目的変数と各説明変数の相関を求める\n",
    "Data_join = pd.concat([HousePrices, Data],axis=1)\n",
    "Data_join.corr()[\"HousePrices\"].abs().sort_values(ascending=False)"
   ]
  },
  {
   "cell_type": "code",
   "execution_count": 9,
   "metadata": {},
   "outputs": [
    {
     "data": {
      "text/plain": [
       "<matplotlib.axes._subplots.AxesSubplot at 0x7f7ffeb83e48>"
      ]
     },
     "execution_count": 9,
     "metadata": {},
     "output_type": "execute_result"
    },
    {
     "data": {
      "image/png": "[encoded data removed]",
      "text/plain": [
       "<Figure size 432x288 with 2 Axes>"
      ]
     },
     "metadata": {
      "needs_background": "light"
     },
     "output_type": "display_data"
    }
   ],
   "source": [
    "sns.heatmap(Data_join.corr())"
   ]
  },
  {
   "cell_type": "code",
   "execution_count": 10,
   "metadata": {},
   "outputs": [
    {
     "name": "stdout",
     "output_type": "stream",
     "text": [
      "多重回帰における住宅価格への決定係数は0.71\n"
     ]
    }
   ],
   "source": [
    "# トレーニング80% テスト20%　に分割\n",
    "(DataLstat_train, DataLstat_test, \n",
    " HousePrices_train, HousePrices_test) = train_test_split(DataLstat, HousePrices, test_size=0.2, random_state=0) # テスト 20% 分割はランダム無し\n",
    "x_train, x_test, y_train, y_test = train_test_split(Data, HousePrices, test_size=0.2, random_state=0)\n",
    "\n",
    "# x_train_multi = x_train.loc[:,[\"LSTAT\",\"PTRATIO\", \"INDUS\"]]\n",
    "# x_test_multi = x_test.loc[:,[\"LSTAT\",\"PTRATIO\", \"INDUS\"]]\n",
    "\n",
    "x_train_multi = x_train.loc[:,[\"LSTAT\",\"RM\", \"DIS\", \"ZN\"]]\n",
    "x_test_multi = x_test.loc[:,[\"LSTAT\",\"RM\", \"DIS\", \"ZN\"]]\n",
    "\n",
    "degree_2 = PolynomialFeatures(2)\n",
    "x_tarin = degree_2.fit_transform(x_train_multi)\n",
    "x_test = degree_2.fit_transform(x_test_multi)\n",
    "\n",
    "lin_multi = LinearRegression()\n",
    "lin_multi.fit(x_tarin, y_train)\n",
    "\n",
    "# 線形モデル決定係数\n",
    "score_multi = lin_multi.score(x_test, y_test)\n",
    "print(\"多重回帰における住宅価格への決定係数は%.2f\"%(score_multi))"
   ]
  },
  {
   "cell_type": "markdown",
   "metadata": {},
   "source": [
    "### 5.1 多重回帰の性質\n",
    "多重回帰は説明変数を増やすことにより、複数の要素による目的変数の影響を説明することが可能になる。しかし、説明変数を増やすとどの説明変数が最も影響してるのかがわかり難くなるだけでなく、説明変数同士に相関関係があると互いに影響を与えてしまうことがある。この現象を多重共線性といいう。"
   ]
  }
 ],
 "metadata": {
  "kernelspec": {
   "display_name": "Python 3",
   "language": "python",
   "name": "python3"
  },
  "language_info": {
   "codemirror_mode": {
    "name": "ipython",
    "version": 3
   },
   "file_extension": ".py",
   "mimetype": "text/x-python",
   "name": "python",
   "nbconvert_exporter": "python",
   "pygments_lexer": "ipython3",
   "version": "3.7.0"
  }
 },
 "nbformat": 4,
 "nbformat_minor": 2
}
